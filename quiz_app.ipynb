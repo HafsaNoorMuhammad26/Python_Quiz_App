{
 "cells": [
  {
   "cell_type": "code",
   "execution_count": 3,
   "id": "9cbf6622-80d7-445c-8d16-6809337fc9b4",
   "metadata": {},
   "outputs": [
    {
     "name": "stdout",
     "output_type": "stream",
     "text": [
      "WELCOME TO PYTHON QUIZ!\n",
      "\n",
      "Question 1: Which of the following is the truncation division operator in Python?\n",
      "A. |\n",
      "B. //\n",
      "C. /\n",
      "D. %\n"
     ]
    },
    {
     "name": "stdin",
     "output_type": "stream",
     "text": [
      "Select your answer (A/B/C/D):  b\n"
     ]
    },
    {
     "name": "stdout",
     "output_type": "stream",
     "text": [
      "Correct!\n",
      "\n",
      "Question 2: What is the output of the following code? print(type([]))\n",
      "A. tuple\n",
      "B. list\n",
      "C. set\n",
      "D. dictionary\n"
     ]
    },
    {
     "name": "stdin",
     "output_type": "stream",
     "text": [
      "Select your answer (A/B/C/D):  b\n"
     ]
    },
    {
     "name": "stdout",
     "output_type": "stream",
     "text": [
      "Correct!\n",
      "\n",
      "Question 3: What will be the output of the following Python function? len([\"hello\",2, 4, 6])\n",
      "A. Error\n",
      "B. 6\n",
      "C. 4\n",
      "D. 3\n"
     ]
    },
    {
     "name": "stdin",
     "output_type": "stream",
     "text": [
      "Select your answer (A/B/C/D):  c\n"
     ]
    },
    {
     "name": "stdout",
     "output_type": "stream",
     "text": [
      "Correct!\n",
      "\n",
      "Question 4: What will be the output of the following Python code? print(\"abc. DEF\".capitalize())\n",
      "A. Abc. def\n",
      "B. abc. def\n",
      "C. Abc. Def\n",
      "D. ABC. DEF\n"
     ]
    },
    {
     "name": "stdin",
     "output_type": "stream",
     "text": [
      "Select your answer (A/B/C/D):  a\n"
     ]
    },
    {
     "name": "stdout",
     "output_type": "stream",
     "text": [
      "Correct!\n",
      "\n",
      "Question 5: Which of the following statements is used to create an empty set in Python?\n",
      "A. ( )\n",
      "B. [ ]\n",
      "C. { }\n",
      "D. set()\n"
     ]
    },
    {
     "name": "stdin",
     "output_type": "stream",
     "text": [
      "Select your answer (A/B/C/D):  d\n"
     ]
    },
    {
     "name": "stdout",
     "output_type": "stream",
     "text": [
      "Correct!\n",
      "\n",
      "Question 6: Which method is used to add an element to a set in Python?\n",
      "A. add()\n",
      "B. append()\n",
      "C. insert()\n",
      "D. push()\n"
     ]
    },
    {
     "name": "stdin",
     "output_type": "stream",
     "text": [
      "Select your answer (A/B/C/D):  a\n"
     ]
    },
    {
     "name": "stdout",
     "output_type": "stream",
     "text": [
      "Correct!\n",
      "\n",
      "Question 7: To add a new element to a list we use which Python command?\n",
      "A. list1.addEnd(5)\n",
      "B. list1.addLast(5)\n",
      "C. list1.append(5)\n",
      "D. list1.add(5)\n"
     ]
    },
    {
     "name": "stdin",
     "output_type": "stream",
     "text": [
      "Select your answer (A/B/C/D):  c\n"
     ]
    },
    {
     "name": "stdout",
     "output_type": "stream",
     "text": [
      "Correct!\n",
      "\n",
      "Question 8: How do you add a new key-value pair to a dictionary?\n",
      "A. dict.append(key, value)\n",
      "B. dict.add(key, value)\n",
      "C. dict.update({key: value})\n",
      "D. dict[key] = value\n"
     ]
    },
    {
     "name": "stdin",
     "output_type": "stream",
     "text": [
      "Select your answer (A/B/C/D):  d\n"
     ]
    },
    {
     "name": "stdout",
     "output_type": "stream",
     "text": [
      "Correct!\n",
      "\n",
      "Question 9: What are the two main types of functions in Python?\n",
      "A. System function\n",
      "B. Custom function\n",
      "C. Built-in function & User defined function\n",
      "D. User function\n"
     ]
    },
    {
     "name": "stdin",
     "output_type": "stream",
     "text": [
      "Select your answer (A/B/C/D):  c\n"
     ]
    },
    {
     "name": "stdout",
     "output_type": "stream",
     "text": [
      "Correct!\n",
      "\n",
      "Question 10: What is the output of? print(2 == 2)\n",
      "A. True\n",
      "B. False\n",
      "C. 2\n",
      "D. None\n"
     ]
    },
    {
     "name": "stdin",
     "output_type": "stream",
     "text": [
      "Select your answer (A/B/C/D):  a\n"
     ]
    },
    {
     "name": "stdout",
     "output_type": "stream",
     "text": [
      "Correct!\n",
      "\n",
      "Congratulations! You answered all questions correctly. Your score is 10.\n"
     ]
    }
   ],
   "source": [
    "python_quiz = \"python_mcq_questions.txt\"\n",
    "\n",
    "def play_quiz():\n",
    "    try:\n",
    "        with open(python_quiz, 'r') as h:\n",
    "            print(\"WELCOME TO PYTHON QUIZ!\\n\")\n",
    "            score = 0\n",
    "            question_number = 1\n",
    "\n",
    "            for line in h:\n",
    "                parts = line.strip().split(';')\n",
    "                question = parts[0].strip()\n",
    "                option_a = parts[1].strip()\n",
    "                option_b = parts[2].strip()\n",
    "                option_c = parts[3].strip()\n",
    "                option_d = parts[4].strip()\n",
    "                correct_option = parts[5].strip().upper()\n",
    "\n",
    "                print(f\"Question {question_number}: {question}\")\n",
    "                print(f\"A. {option_a}\")\n",
    "                print(f\"B. {option_b}\")\n",
    "                print(f\"C. {option_c}\")\n",
    "                print(f\"D. {option_d}\")\n",
    "\n",
    "                user_answer = input(\"Select your answer (A/B/C/D): \").strip().upper()\n",
    "\n",
    "                if user_answer == correct_option:\n",
    "                    print(\"Correct!\\n\")\n",
    "                    score += 1\n",
    "                    question_number += 1\n",
    "                else:\n",
    "                    print(f\"Incorrect! The correct answer was: {correct_option}.\")\n",
    "                    print(f\"Game over! You scored {score} points.\")\n",
    "                    break\n",
    "\n",
    "            else:\n",
    "                print(f\"Congratulations! You answered all questions correctly. Your score is {score}.\")\n",
    "\n",
    "    except FileNotFoundError:\n",
    "        print(f\"Error: The file '{python_quiz}' was not found.\")\n",
    "    except Exception as e:\n",
    "        print(f\"An error occurred: {e}\")\n",
    "\n",
    "\n",
    "play_quiz()\n",
    "\n"
   ]
  },
  {
   "cell_type": "code",
   "execution_count": null,
   "id": "404d5222-8e35-45c4-b525-f2cd28982665",
   "metadata": {},
   "outputs": [],
   "source": []
  }
 ],
 "metadata": {
  "kernelspec": {
   "display_name": "Python 3 (ipykernel)",
   "language": "python",
   "name": "python3"
  },
  "language_info": {
   "codemirror_mode": {
    "name": "ipython",
    "version": 3
   },
   "file_extension": ".py",
   "mimetype": "text/x-python",
   "name": "python",
   "nbconvert_exporter": "python",
   "pygments_lexer": "ipython3",
   "version": "3.12.4"
  }
 },
 "nbformat": 4,
 "nbformat_minor": 5
}
